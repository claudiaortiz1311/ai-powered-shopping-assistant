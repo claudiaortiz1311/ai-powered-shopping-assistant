{
 "cells": [
  {
   "cell_type": "code",
   "execution_count": 1,
   "id": "324f4b00",
   "metadata": {},
   "outputs": [
    {
     "name": "stdout",
     "output_type": "stream",
     "text": [
      "\n",
      "USER: Hi, I need bananas\n",
      "ERROR: asyncio.run() cannot be called from a running event loop\n",
      "{'user_input': 'Hi, I need bananas', 'error': 'asyncio.run() cannot be called from a running event loop', 'thread_id': 'test-thread-123', 'current_mode': 'unknown'}\n"
     ]
    }
   ],
   "source": [
    "from src.conversation_runner import run_single_turn\n",
    "result = run_single_turn(\"Hi, I need bananas\", \"test-thread-123\")\n",
    "print(result)"
   ]
  },
  {
   "cell_type": "code",
   "execution_count": null,
   "id": "10e69d1b",
   "metadata": {},
   "outputs": [],
   "source": []
  }
 ],
 "metadata": {
  "kernelspec": {
   "display_name": "agentspf",
   "language": "python",
   "name": "python3"
  },
  "language_info": {
   "codemirror_mode": {
    "name": "ipython",
    "version": 3
   },
   "file_extension": ".py",
   "mimetype": "text/x-python",
   "name": "python",
   "nbconvert_exporter": "python",
   "pygments_lexer": "ipython3",
   "version": "3.10.0"
  }
 },
 "nbformat": 4,
 "nbformat_minor": 5
}
